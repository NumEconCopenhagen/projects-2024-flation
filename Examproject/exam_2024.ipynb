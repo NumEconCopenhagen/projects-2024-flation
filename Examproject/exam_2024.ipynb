{
 "cells": [
  {
   "cell_type": "markdown",
   "metadata": {},
   "source": [
    "**Table of contents**<a id='toc0_'></a>    \n",
    "- 1. [Problem 1: Production economy and CO2 taxation](#toc1_)    \n",
    "- 2. [Problem 2: Career choice model](#toc2_)    \n",
    "- 3. [Problem 3: Barycentric interpolation](#toc3_)    \n",
    "\n",
    "<!-- vscode-jupyter-toc-config\n",
    "\tnumbering=true\n",
    "\tanchor=true\n",
    "\tflat=false\n",
    "\tminLevel=2\n",
    "\tmaxLevel=6\n",
    "\t/vscode-jupyter-toc-config -->\n",
    "<!-- THIS CELL WILL BE REPLACED ON TOC UPDATE. DO NOT WRITE YOUR TEXT IN THIS CELL -->"
   ]
  },
  {
   "cell_type": "code",
   "execution_count": 320,
   "metadata": {},
   "outputs": [],
   "source": [
    "# Write your code here\n",
    "import numpy as np\n",
    "import scipy\n",
    "from scipy.stats import norm # Nødvendig\n",
    "from types import SimpleNamespace\n",
    "import matplotlib.pyplot as plt\n",
    "plt.rcParams.update({\"axes.grid\":True,\"grid.color\":\"black\",\"grid.alpha\":\"0.25\",\"grid.linestyle\":\"--\"})\n",
    "plt.rcParams.update({'font.size': 14})"
   ]
  },
  {
   "cell_type": "markdown",
   "metadata": {},
   "source": [
    "## 1. <a id='toc1_'></a>[Problem 1: Production economy and CO2 taxation](#toc0_)"
   ]
  },
  {
   "cell_type": "markdown",
   "metadata": {},
   "source": [
    "Consider a production economy with two firms indexed by $j \\in \\{1,2\\}$. Each produce its own good. They solve\n",
    "\n",
    "$$\n",
    "\\begin{align*}\n",
    "\\max_{y_{j}}\\pi_{j}&=p_{j}y_{j}-w_{j}\\ell_{j}\\\\\\text{s.t.}\\;&y_{j}=A\\ell_{j}^{\\gamma}.\n",
    "\\end{align*}\n",
    "$$\n",
    "\n",
    "Optimal firm behavior is\n",
    "\n",
    "$$\n",
    "\\begin{align*}\n",
    "\\ell_{j}^{\\star}(w,p_{j})&=\\left(\\frac{p_{j}A\\gamma}{w}\\right)^{\\frac{1}{1-\\gamma}} \\\\\n",
    "y_{j}^{\\star}(w,p_{j})&=A\\left(\\ell_{j}^{\\star}(w,p_{j})\\right)^{\\gamma}\n",
    "\\end{align*}\n",
    "$$\n",
    "\n",
    "The implied profits are\n",
    "\n",
    "$$\n",
    "\\pi_{j}^*(w,p_{j})=\\frac{1-\\gamma}{\\gamma}w\\cdot\\left(\\frac{p_{j}A\\gamma}{w}\\right)^{\\frac{1}{1-\\gamma}}\n",
    "$$\n",
    "\n",
    "A single consumer supplies labor, and consumes the goods the firms produce. She also recieves the implied profits of the firm.<br>\n",
    "She solves:\n",
    "\n",
    "$$\n",
    "\\begin{align*}\n",
    "U(p_1,p_2,w,\\tau,T) = \\max_{c_{1},c_{2},\\ell} & \\log(c_{1}^{\\alpha}c_{2}^{1-\\alpha})-\\nu\\frac{\\ell^{1+\\epsilon}}{1+\\epsilon} \\\\\n",
    "\\text{s.t.}\\,\\,\\,&p_{1}c_{1}+(p_{2}+\\tau)c_{2}=w\\ell+T+\\pi_{1}^*(w,p_{1})+\\pi_{2}^*(w,p_{2})\n",
    "\\end{align*}\n",
    "$$\n",
    "\n",
    "where $\\tau$ is a tax and $T$ is lump-sum transfer. <br>\n",
    "For a given $\\ell$, it can be shown that optimal behavior is\n",
    "\n",
    "$$\n",
    "\\begin{align*}\n",
    "c_{1}(\\ell)&=\\alpha\\frac{w\\ell+T+\\pi_{1}^*(w,p_{1})+\\pi_{2}^*(w,p_{2})}{p_{1}} \\\\\n",
    "c_{2}(\\ell)&=(1-\\alpha)\\frac{w\\ell+T+\\pi_{1}^*(w,p_{1})+\\pi_{2}^*(w,p_{2})}{p_{2}+\\tau} \\\\\n",
    "\\end{align*}\n",
    "$$\n",
    "Such that optimal behavior is:\n",
    "$$\n",
    "\\ell^* = \\underset{\\ell}{\\arg\\max} \\log(\\left(c_{1}(\\ell)\\right)^{\\alpha}\\cdot \\left(c_{2}(\\ell)\\right)^{1-\\alpha})-\\nu\\frac{\\ell^{1+\\epsilon}}{1+\\epsilon} \n",
    "$$\n",
    "With optimal consumption:\n",
    "$$\n",
    "\\begin{align*}\n",
    "c_1^*=c_{1}(\\ell^*) \\\\\n",
    "c_2^*=c_{2}(\\ell^*)\\\\\n",
    "\\end{align*}\n",
    "$$\n",
    "\n",
    "\n",
    "The government chooses $\\tau$ and balances its budget so $T=\\tau c_2^*$. We initially set $\\tau,T=0$.\n",
    "\n",
    "Market clearing requires:\n",
    "\n",
    "1. Labor market: $\\ell^* = \\ell_1^* + \\ell_2^*$\n",
    "1. Good market 1: $c_1^* = y_1^*$\n",
    "1. Good market 2: $c_2^* = y_2^*$\n"
   ]
  },
  {
   "cell_type": "markdown",
   "metadata": {},
   "source": [
    "**Question 1:** Check market clearing conditions for $p_1$ in `linspace(0.1,2.0,10)` and $p_2$ in `linspace(0.1,2.0,10)`. We choose $w=1$ as numeraire."
   ]
  },
  {
   "cell_type": "code",
   "execution_count": 13,
   "metadata": {},
   "outputs": [],
   "source": [
    "par = SimpleNamespace()\n",
    "\n",
    "# firms\n",
    "par.A = 1.0\n",
    "par.gamma = 0.5\n",
    "\n",
    "# households\n",
    "par.alpha = 0.3\n",
    "par.nu = 1.0\n",
    "par.eps = 2.0\n",
    "\n",
    "# government\n",
    "par.tau = 0.0\n",
    "par.T = 0.0\n",
    "\n",
    "# Question 3\n",
    "par.kappa = 0.1"
   ]
  },
  {
   "cell_type": "code",
   "execution_count": 116,
   "metadata": {},
   "outputs": [],
   "source": [
    "# We first define the optimal firm behaviour and implied profits as described\n",
    "def firm_optimal_labor(p, w = 1) : \n",
    "    ell_j = ( ( p * par.A * par.gamma ) / w ) ** ( 1 / ( 1-par.gamma ) )\n",
    "    return ell_j\n",
    "\n",
    "def firm_optimal_output(p, w = 1) :\n",
    "    y_j = par.A * ( firm_optimal_labor(p, w) ) ** par.gamma\n",
    "    return y_j\n",
    "\n",
    "def implied_profits(p, w = 1) :\n",
    "    profits_j = ( ( 1 - par.gamma ) / par.gamma ) * w * firm_optimal_labor(p) \n",
    "    return profits_j\n",
    "\n",
    "\n",
    "# We then define optimal consumer behaviour for a given ell \n",
    "def optimal_good_1(p1, p2, ell, w = 1) :\n",
    "    cons_1 = par.alpha * ( w * ell + par.T + implied_profits(p1) + implied_profits(p2) ) / p1 \n",
    "    return cons_1\n",
    "\n",
    "def optimal_good_2(p1, p2, ell, w = 1) :\n",
    "    cons_2 = ( 1 - par.alpha ) * ( w * ell + par.T + implied_profits(p1) + implied_profits(p2) ) / (p2 + par.tau)\n",
    "    return cons_2\n",
    "\n",
    "\n",
    "# Next we turn to the maximization problem and define the objective function that is to be minimized\n",
    "def ufunc_ell(ell,p1,p2,w=1) :\n",
    "    u_ell = np.log( ( optimal_good_1(p1,p2,ell,w) ** par.alpha ) * ( optimal_good_2(p1,p2,ell,w) ** ( 1 - par.alpha ) ) ) - par.nu * ( ell ** ( 1 + par.eps) ) / ( 1 + par.eps )\n",
    "    return u_ell\n",
    "\n",
    "\n",
    "# We have a single parameter to optimize by therefore we use scipy's minimize_scalar function to find the optimal consumption\n",
    "def optimal_consumption(p1,p2) :\n",
    "\n",
    "    def objective_ell(ell,p1,p2) :\n",
    "        return -ufunc_ell(ell,p1,p2)\n",
    "    \n",
    "    sol = scipy.optimize.minimize_scalar(\n",
    "                objective_ell,\n",
    "                method = 'bounded',\n",
    "                bounds = (0,2),\n",
    "                args=(p1, p2) )\n",
    "    \n",
    "    ell_star = sol.x\n",
    "    c1_star = optimal_good_1(p1,p2,sol.x)\n",
    "    c2_star = optimal_good_2(p1,p2,sol.x)\n",
    "\n",
    "    return ell_star, c1_star, c2_star\n",
    "\n",
    "\n",
    "def check_market_clearing(p1,p2) :\n",
    "    # Make sure the wage is numeraire\n",
    "\n",
    "    # Optimal household behaviour\n",
    "    ell_star, c1_star, c2_star = optimal_consumption(p1,p2) # Choice of labor supply and optimal consumption\n",
    "\n",
    "    # Optimal firm behaviour\n",
    "    ell_1 = firm_optimal_labor(p1) ; ell_2 = firm_optimal_labor(p2) # Choice of labor\n",
    "    y_1 = firm_optimal_output(p1) ; y_2 = firm_optimal_output(p2) # Choice of output\n",
    "\n",
    "    # Market clearing\n",
    "    labor_mkt_clearing = ell_star - ( ell_1 + ell_2 )\n",
    "    good1_mkt_clearing = c1_star - y_1\n",
    "    good2_mkt_clearing = c2_star - y_2\n",
    "\n",
    "    return labor_mkt_clearing, good1_mkt_clearing, good2_mkt_clearing\n",
    "\n",
    "\n",
    "# We then check the market clearing conditions for the set linspaces of p1 and p2. \n",
    "for i in np.linspace(0.1,2.0,10) :\n",
    "    for j in np.linspace(0.1,2.0,10) :\n",
    "        p1 = i  ;  p2 = j\n",
    "\n",
    "        labor_mkt_clearing, good1_mkt_clearing, good2_mkt_clearing = check_market_clearing(p1,p2)\n",
    "    \n",
    "        # Print results\n",
    "        # print(f'p1 = {p1:.3f} --> p2 = {p2:.3f} --> Labor market: {labor_mkt_clearing:.3f} --> Good market 1: {good1_mkt_clearing:.3f} --> Good market 2: {good2_mkt_clearing:.3f}')"
   ]
  },
  {
   "cell_type": "markdown",
   "metadata": {},
   "source": [
    "**Question 2:** Find the equilibrium prices $p_1$ and $p_2$.<br>\n",
    "*Hint: you can use Walras' law to only check 2 of the market clearings*"
   ]
  },
  {
   "cell_type": "code",
   "execution_count": 145,
   "metadata": {},
   "outputs": [
    {
     "name": "stdout",
     "output_type": "stream",
     "text": [
      "The market clearing prices are p1 = 0.976 and p2 = 1.491\n",
      "Market clearing condition for good market 1: -0.000\n",
      "Market clearing condition for good market 2: -0.000\n",
      "Market clearing condition for labor market: -0.000\n"
     ]
    }
   ],
   "source": [
    "# We solve for the market clearing prices using scipy.optimize.root\n",
    "# We therefore define the objective function where we find when both goods markets clear\n",
    "def objective_walras(p) :\n",
    "    p1,p2 = p\n",
    "    _, good1_mkt_clearing, good2_mkt_clearing = check_market_clearing(p1,p2)\n",
    "    return good1_mkt_clearing, good2_mkt_clearing\n",
    "\n",
    "# Initial guess: Based on the previous excercise where both good markets clearing conditions were close to 0\n",
    "initial_guess = [0.944,1.578]\n",
    "\n",
    "# We employ the optimizer\n",
    "res = scipy.optimize.root(\n",
    "    objective_walras, \n",
    "    initial_guess, \n",
    "    method='hybr'\n",
    ")\n",
    "\n",
    "# Print results\n",
    "labor_mkt_clearing, good1_mkt_clearing, good2_mkt_clearing = check_market_clearing(res.x[0],res.x[1])\n",
    "\n",
    "print(f'The market clearing prices are p1 = {res.x[0]:.3f} and p2 = {res.x[1]:.3f}')\n",
    "print(f'Market clearing condition for good market 1: {good1_mkt_clearing:.3f}')\n",
    "print(f'Market clearing condition for good market 2: {good2_mkt_clearing:.3f}')\n",
    "print(f'Market clearing condition for labor market: {labor_mkt_clearing:.3f}')"
   ]
  },
  {
   "cell_type": "markdown",
   "metadata": {},
   "source": [
    "Assume the government care about the social welfare function:\n",
    "\n",
    "$$\n",
    "SWF = U - \\kappa y_2^*\n",
    "$$"
   ]
  },
  {
   "cell_type": "markdown",
   "metadata": {},
   "source": [
    "Here $\\kappa$ measures the social cost of carbon emitted by the production of $y_2$ in equilibrium."
   ]
  },
  {
   "cell_type": "markdown",
   "metadata": {},
   "source": [
    "**Question 3:** What values of $\\tau$ and (implied) $T$ should the government choose to maximize $SWF$?"
   ]
  },
  {
   "cell_type": "code",
   "execution_count": 148,
   "metadata": {},
   "outputs": [],
   "source": [
    "# Write your answer here\n"
   ]
  },
  {
   "cell_type": "markdown",
   "metadata": {},
   "source": [
    "## 2. <a id='toc2_'></a>[Problem 2: Career choice model](#toc0_)"
   ]
  },
  {
   "cell_type": "markdown",
   "metadata": {},
   "source": [
    "Consider a graduate $i$ making a choice between entering $J$ different career tracks. <br>\n",
    "Entering career $j$ yields utility $u^k_{ij}$. This value is unknown to the graduate ex ante, but will ex post be: <br>\n",
    "$$\n",
    "    u_{i,j}^k = v_{j} + \\epsilon_{i,j}^k\n",
    "$$\n",
    "\n",
    "They know that $\\epsilon^k_{i,j}\\sim \\mathcal{N}(0,\\sigma^2)$, but they do not observe $\\epsilon^k_{i,j}$ before making their career choice. <br>"
   ]
  },
  {
   "cell_type": "markdown",
   "metadata": {},
   "source": [
    "Consider the concrete case of $J=3$ with:\n",
    "$$\n",
    "\\begin{align*}\n",
    "    v_{1} &= 1 \\\\\n",
    "    v_{2} &= 2 \\\\\n",
    "    v_{3} &= 3\n",
    "\\end{align*}\n",
    "$$"
   ]
  },
  {
   "cell_type": "markdown",
   "metadata": {},
   "source": [
    "If the graduates know the values of $v_j$ and the distribution of $\\epsilon_{i,j}^k$, they can calculate the expected utility of each career track using simulation: <br>\n",
    "$$\n",
    "    \\mathbb{E}\\left[ u^k_{i,j}\\vert v_j \\right] \\approx v_j + \\frac{1}{K}\\sum_{k=1}^K \\epsilon_{i,j}^k\n",
    "$$"
   ]
  },
  {
   "cell_type": "code",
   "execution_count": 166,
   "metadata": {},
   "outputs": [
    {
     "name": "stdout",
     "output_type": "stream",
     "text": [
      "[ 1  2  3  4  5  6  7  8  9 10]\n"
     ]
    }
   ],
   "source": [
    "par = SimpleNamespace()\n",
    "par.J = 3\n",
    "par.N = 10\n",
    "par.K = 10000\n",
    "\n",
    " # Først til opgave 2\n",
    "par.sigma = 2\n",
    "\n",
    "par.v = np.array([1,2,3])\n",
    " # Først til opgave 2\n",
    "\n",
    "# Question 2\n",
    "par.F = np.arange(1,par.N+1)\n",
    "\n",
    "# Question 3\n",
    "par.c = 1"
   ]
  },
  {
   "cell_type": "markdown",
   "metadata": {},
   "source": [
    "**Question 1:** Simulate and calculate expected utility and the average realised utility for $K=10000$ draws, for each career choice $j$.\n"
   ]
  },
  {
   "cell_type": "code",
   "execution_count": 249,
   "metadata": {},
   "outputs": [
    {
     "name": "stdout",
     "output_type": "stream",
     "text": [
      "The expected utility for v1 = 1.003, v2 = 1.989 and v3 = 3.003\n",
      "The average realized utility for v1 = 1.003, v2 = 1.989 and v3 = 3.003\n"
     ]
    }
   ],
   "source": [
    "# We set the seed as 2000\n",
    "np.random.seed(2000)\n",
    "\n",
    "def util(v, epsilon) :\n",
    "    return v + epsilon\n",
    "\n",
    "exp_util = np.zeros(par.J)\n",
    "avg_real_util = np.zeros(par.J)\n",
    "\n",
    "for j in range(par.J) : # Måske bare ændre til par.v\n",
    "    \n",
    "    # Draw the 10000 epsilons randomly from the normal distribution with mean 0 and standard deviation 2\n",
    "    kepsilons = np.random.normal(0, par.sigma, par.K)\n",
    "    \n",
    "    # We first compute the expected utility\n",
    "    exp_util[j] = par.v[j] + np.mean(kepsilons)\n",
    "\n",
    "    # We then calculate average realized utility\n",
    "    avg_real_util[j] = np.mean(par.v[j] + kepsilons)\n",
    "\n",
    "print(f'The expected utility for v1 = {exp_util[0]:.3f}, v2 = {exp_util[1]:.3f} and v3 = {exp_util[2]:.3f}')\n",
    "print(f'The average realized utility for v1 = {avg_real_util[0]:.3f}, v2 = {avg_real_util[1]:.3f} and v3 = {avg_real_util[2]:.3f}')"
   ]
  },
  {
   "cell_type": "markdown",
   "metadata": {},
   "source": [
    "Now consider a new scenario: Imagine that the graduate does not know $v_j$. The *only* prior information they have on the value of each job, comes from their $F_{i}$ friends that work in each career $j$. After talking with them, they know the average utility of their friends (which includes their friends' noise term), giving them the prior expecation: <br>\n",
    "$$\n",
    "\\tilde{u}^k_{i,j}\\left( F_{i}\\right) = \\frac{1}{F_{i}}\\sum_{f=1}^{F_{i}} \\left(v_{j} + \\epsilon^k_{f,j}\\right), \\; \\epsilon^k_{f,j}\\sim \\mathcal{N}(0,\\sigma^2)\n",
    "$$\n",
    "For ease of notation consider that each graduate have $F_{i}=i$ friends in each career. <br>"
   ]
  },
  {
   "cell_type": "markdown",
   "metadata": {},
   "source": [
    "For $K$ times do the following: <br>\n",
    "1. For each person $i$ draw $J\\cdot F_i$ values of $\\epsilon_{f,j}^{k}$, and calculate the prior expected utility of each career track, $\\tilde{u}^k_{i,j}\\left( F_{i}\\right)$. <br>\n",
    "Also draw their own $J$ noise terms, $\\epsilon_{i,j}^k$\n",
    "1. Each person $i$ chooses the career track with the highest expected utility: $$j_i^{k*}= \\arg\\max_{j\\in{1,2\\dots,J}}\\left\\{ \\tilde{u}^k_{i,j}\\left( F_{i}\\right)\\right\\} $$\n",
    "1. Store the chosen careers: $j_i^{k*}$, the prior expectation of the value of their chosen career: $\\tilde{u}^k_{i,j=j_i^{k*}}\\left( F_{i}\\right)$, and the realized value of their chosen career track: $u^k_{i,j=j_i^{k*}}=v_{j=j_i^{k*}}+\\epsilon_{i,j=j_i^{k*}}^k$."
   ]
  },
  {
   "cell_type": "markdown",
   "metadata": {},
   "source": [
    "Chosen values will be: <br>\n",
    "$i\\in\\left\\{1,2\\dots,N\\right\\}, N=10$ <br>\n",
    "$F_i = i$<br>\n",
    "So there are 10 graduates. The first has 1 friend in each career, the second has 2 friends, ... the tenth has 10 friends."
   ]
  },
  {
   "cell_type": "markdown",
   "metadata": {},
   "source": [
    "**Question 2:** Simulate and visualize: For each type of graduate, $i$, the share of graduates choosing each career, the average subjective expected utility of the graduates, and the average ex post realized utility given their choice. <br>\n",
    "That is, calculate and visualize: <br>\n",
    "$$\n",
    "\\begin{align*}\n",
    "    \\frac{1}{K} \\sum_{k=1}^{K} \\mathbb{I}\\left\\{ j=j_i^{k*} \\right\\}  \\;\\forall j\\in\\left\\{1,2,\\dots,J\\right\\}\n",
    "\\end{align*}\n",
    "$$\n",
    "$$\n",
    "\\begin{align*}\n",
    "    \\frac{1}{K} \\sum_{k=1}^{K} \\tilde{u}^k_{ij=j_i^{k*}}\\left( F_{i}\\right)\n",
    "\\end{align*}\n",
    "$$\n",
    "And \n",
    "$$\n",
    "\\begin{align*}\n",
    "    \\frac{1}{K} \\sum_{k=1}^{K} u^k_{ij=j_i^{k*}} \n",
    "\\end{align*}\n",
    "$$\n",
    "For each graduate $i$."
   ]
  },
  {
   "cell_type": "code",
   "execution_count": 456,
   "metadata": {},
   "outputs": [
    {
     "data": {
      "image/png": "[encoded data removed]",
      "text/plain": [
       "<Figure size 1000x2000 with 3 Axes>"
      ]
     },
     "metadata": {},
     "output_type": "display_data"
    }
   ],
   "source": [
    "# We set the seed as 2000\n",
    "np.random.seed(2000)\n",
    "\n",
    "# Function that finds the chosen career tack, prior expected utility and realized utility of chosen career track for graduate i\n",
    "def career_i(i) :\n",
    "\n",
    "    prior_exp_util = np.zeros(par.J) # Each person i has a single prior expected utility for each of the J career tracks\n",
    "                            # We therefore make an empty 1 x J numpy array to store each prior expected utility\n",
    "\n",
    "    for j in range(par.J) : # We loop over each possible career path\n",
    "\n",
    "        eps_f = np.random.normal(0, par.sigma, i) # Each person i has F friends in each career track  \n",
    "                                                  # We therefore draw F = i shocks in a 1 x F numpy array \n",
    "        \n",
    "        prior_exp_util[j] = np.mean(par.v[j] + eps_f) # We calculate the prior expected utility for each career track\n",
    "                                                      # These are added to 1 x J numpy array\n",
    "\n",
    "    eps_i = np.random.normal(0, par.sigma, par.J) # Each person i draws a shock for each of their J career tracks\n",
    "                                                  # We therefore make a 1 x J numpy array with the shocks drawn\n",
    "\n",
    "    # Vector of the three realized utilites\n",
    "    realized_util = par.v + eps_i\n",
    "\n",
    "    # The career track chosen\n",
    "    chosen_j = np.argmax(prior_exp_util) + 1 \n",
    "\n",
    "    # Prior expected utility\n",
    "    chosen_prior = np.max(prior_exp_util)\n",
    "\n",
    "    # Realized utility of chosen career track\n",
    "    chosen_realized = par.v[chosen_j - 1] + eps_i[chosen_j - 1] \n",
    "\n",
    "    return chosen_j, chosen_prior, chosen_realized, prior_exp_util, realized_util \n",
    "\n",
    "\n",
    "def simulation_i(i) :\n",
    "\n",
    "    c_track_i = np.zeros(par.K)\n",
    "    c_prior_i = np.zeros(par.K)\n",
    "    c_realized_i = np.zeros(par.K)\n",
    "\n",
    "    for k in range(par.K) :\n",
    "        chosen_j, chosen_prior, chosen_realized, _, _ = career_i(i)\n",
    "\n",
    "        c_track_i[k] = chosen_j\n",
    "        c_prior_i[k] = chosen_prior\n",
    "        c_realized_i[k] = chosen_realized\n",
    "\n",
    "    track_share = np.zeros(par.J)\n",
    "\n",
    "    # Compute the share that chooses each of the J career paths\n",
    "    for j in range(par.J) :\n",
    "    \n",
    "        indicator = np.array([ [ 1 if c_track_i[i] == j + 1 else 0 ] for i in range(par.K) ]).T[0]\n",
    "        track_share[j] = np.mean(indicator)\n",
    "\n",
    "    avg_sub_exp_util = np.mean(c_prior_i)\n",
    "    avg_ex_post_real = np.mean(c_realized_i)\n",
    "\n",
    "    return track_share, avg_sub_exp_util, avg_ex_post_real \n",
    "\n",
    "track_share_i = np.zeros([par.N,par.J])\n",
    "avg_sub_i = np.zeros(par.N)\n",
    "avg_ex_post_i = np.zeros(par.N)\n",
    "\n",
    "for i in par.F :\n",
    "\n",
    "    track_share, avg_sub_exp_util, avg_ex_post_real = simulation_i(i)\n",
    "    \n",
    "    track_share_i[i-1] = track_share\n",
    "    avg_sub_i[i-1] = avg_sub_exp_util\n",
    "    avg_ex_post_i[i-1] = avg_ex_post_real\n",
    "\n",
    "    # print(f'For i = {i}: Share track 1 = {track_share[0]:.3f}, Share track 2 = {track_share[1]:.3f}, Share track 3 = {track_share[2]:.3f}, average subjective expected utility is {avg_sub_i[i-1]:.3f} and average ex post realized utility is {avg_ex_post_i[i-1]:.3f}') \n",
    "\n",
    "# Plotting the results\n",
    "fig, ax = plt.subplots(3,1, figsize = (10,20))\n",
    "\n",
    "ax[0].bar(par.F, track_share_i[:,0], label = '$1$') \n",
    "ax[0].bar(par.F, track_share_i[:,1], bottom = track_share_i[:,0], label = '$2$') \n",
    "ax[0].bar(par.F, track_share_i[:,2], bottom = track_share_i[:,0] + track_share_i[:,1], label = '$3$')\n",
    "\n",
    "ax[0].set_xlabel('Graduate')\n",
    "ax[0].set_ylabel('Career share')\n",
    "ax[0].set_title('Share of graduates choosing each career', fontsize = 17)\n",
    "ax[0].set_xticks(par.F)\n",
    "ax[0].legend()\n",
    "\n",
    "\n",
    "ax[1].bar(par.F, avg_sub_i)\n",
    "ax[1].set_xlabel('Graduate')\n",
    "ax[1].set_xticks(par.F)\n",
    "ax[1].set_ylabel('Average subjective expected utility')\n",
    "ax[1].set_title('Average subjective expected utility', fontsize = 17)\n",
    "\n",
    "\n",
    "ax[2].bar(par.F, avg_ex_post_i)\n",
    "ax[2].set_xlabel('Graduate')\n",
    "ax[2].set_xticks(par.F)\n",
    "ax[2].set_ylabel('Average ex post realized utility')\n",
    "ax[2].set_title('Average ex post realized utility', fontsize = 17) ;\n",
    "\n",
    "\n"
   ]
  },
  {
   "cell_type": "markdown",
   "metadata": {},
   "source": [
    "After a year of working in their career, the graduates learn $u^k_{ij}$ for their chosen job $j_i^{k*}$ perfectly. <br>\n",
    "The can switch to one of the two remaining careers, for which they have the same prior as before, but it will now include a switching cost of $c$ which is known.\n",
    "Their new priors can be written as: \n",
    "$$\n",
    "\\tilde{u}^{k,2}_{ij}\\left( F_{i}\\right) = \\begin{cases}\n",
    "            \\tilde{u}^k_{ij}\\left( F_{i}\\right)-c & \\text{if } j \\neq j_i^{k*} \\\\\n",
    "            u_{ij=j_i^{k*}} & \\text{if } j = j_i^{k*}\n",
    "        \\end{cases}\n",
    "$$"
   ]
  },
  {
   "cell_type": "markdown",
   "metadata": {},
   "source": [
    "We will set $c=1$."
   ]
  },
  {
   "cell_type": "markdown",
   "metadata": {},
   "source": [
    "Their realized utility will be: <br>\n",
    "$$\n",
    "u^{k,2}_{ij}= \\begin{cases}\n",
    "            u_{ij}^k -c & \\text{if } j \\neq j_i^{k*} \\\\\n",
    "            u_{ij=j_i^{k*}} & \\text{if } j = j_i^{k*}\n",
    "        \\end{cases}\n",
    "$$"
   ]
  },
  {
   "cell_type": "markdown",
   "metadata": {},
   "source": [
    "**Question 3:** Following the same approach as in question 2, find the new optimal career choice for each $i$, $k$. Then for each $i$, calculate the average subjective expected utility from their new optimal career choice, and the ex post realized utility of that career. Also, for each $i$, calculate the share of graduates that chooses to switch careers, conditional on which career they chose in the first year. <br>"
   ]
  },
  {
   "cell_type": "code",
   "execution_count": 457,
   "metadata": {},
   "outputs": [],
   "source": [
    "# We set the seed as 2000\n",
    "np.random.seed(2000)\n",
    "\n",
    "def career_change_i(i) :\n",
    "\n",
    "    chosen_j, _, _, prior_exp_util, realized_util  = career_i(i) \n",
    "    \n",
    "    # For all but the chosen career deduct c from the realized utility\n",
    "    for q in range(par.J) :\n",
    "        if q + 1 == chosen_j :\n",
    "            continue\n",
    "        else :\n",
    "            realized_util[q] = realized_util[q] - 1\n",
    "            prior_exp_util[q] = prior_exp_util[q] - 1\n",
    "\n",
    "    # Evaluate the vector of realized utility with deduction. Change career path if another career provides higher utility.\n",
    "    new_career = np.argmax(realized_util) + 1\n",
    "\n",
    "    # The updated prior and realized utility from either channging or not changing career paths.\n",
    "    new_prior = np.max(prior_exp_util)\n",
    "    new_realized = np.max(realized_util)\n",
    "\n",
    "    # Indicator to show if they changed career paths.\n",
    "    if new_career != chosen_j :\n",
    "        change_career = 1\n",
    "    else :\n",
    "        change_career = 0\n",
    "\n",
    "    return chosen_j, new_career, change_career, new_prior, new_realized\n",
    "\n"
   ]
  },
  {
   "cell_type": "code",
   "execution_count": 462,
   "metadata": {},
   "outputs": [],
   "source": [
    "np.random.seed(2000)\n",
    "\n",
    "def simulation_change_i(i) :\n",
    "    \n",
    "    old_career_i = np.zeros(par.K)\n",
    "    new_optimal_i = np.zeros(par.K)\n",
    "    new_prior_i = np.zeros(par.K)\n",
    "    new_realized_i = np.zeros(par.K)\n",
    "\n",
    "    change_track = np.zeros(par.J)\n",
    "    original_track = np.zeros(par.J)\n",
    "\n",
    "    for k in range(par.K) :\n",
    "        chosen_j, new_career, change_career, new_prior, new_realized = career_change_i(i)\n",
    "\n",
    "        old_career_i[k] = chosen_j\n",
    "        new_optimal_i[k] = new_career\n",
    "        new_prior_i[k] = new_prior\n",
    "        new_realized_i[k] = new_realized\n",
    "\n",
    "        # Next we compute the share that switches job conditioned on which job they originally took\n",
    "        for b in range(par.J) :\n",
    "            if chosen_j == b + 1 and change_career == 1 :\n",
    "                change_track[b] = change_track[b] + 1\n",
    "\n",
    "    # Number of simulations in which career paths 1, 2 or 3 where chosen\n",
    "    for b in range(par.J) :\n",
    "        original_track[b] = np.count_nonzero(old_career_i == b + 1, axis = 0)\n",
    "\n",
    "    new_avg_sub_exp_util = np.mean(new_prior_i)\n",
    "    new_avg_ex_post_real = np.mean(new_realized_i)\n",
    "    share_condition = change_track / original_track\n",
    "\n",
    "    return new_avg_sub_exp_util, new_avg_ex_post_real, share_condition\n",
    "\n",
    "new_avg_sub_i = np.zeros(par.N)\n",
    "new_avg_ex_post_i = np.zeros(par.N)\n",
    "share_condition_i = np.zeros([par.N,par.J])\n",
    "\n",
    "\n",
    "for i in par.F :\n",
    "\n",
    "    new_avg_sub_exp_util, new_avg_ex_post_real, share_condition = simulation_change_i(i)\n",
    "    \n",
    "    new_avg_sub_i[i-1] = new_avg_sub_exp_util\n",
    "    new_avg_ex_post_i[i-1] = new_avg_ex_post_real\n",
    "    share_condition_i[i-1] = share_condition\n",
    "\n",
    "# Shit has been calculated!!!"
   ]
  },
  {
   "cell_type": "markdown",
   "metadata": {},
   "source": [
    "## 3. <a id='toc3_'></a>[Problem 3: Barycentric interpolation](#toc0_)"
   ]
  },
  {
   "cell_type": "markdown",
   "metadata": {},
   "source": [
    "**Problem:** We have a set of random points in the unit square,\n",
    "\n",
    "$$\n",
    "\\mathcal{X} = \\{(x_1,x_2)\\,|\\,x_1\\sim\\mathcal{U}(0,1),x_2\\sim\\mathcal{U}(0,1)\\}.\n",
    "$$\n",
    "\n",
    "For these points, we know the value of some function $f(x_1,x_2)$,\n",
    "\n",
    "$$\n",
    "\\mathcal{F} = \\{f(x_1,x_2) \\,|\\, (x_1,x_2) \\in \\mathcal{X}\\}.\n",
    "$$\n",
    "\n",
    "Now we want to approximate the value $f(y_1,y_2)$ for some  $y=(y_1,y_2)$, where $y_1\\sim\\mathcal{U}(0,1)$ and $y_2\\sim\\mathcal{U}(0,1)$.\n",
    "\n",
    "**Building block I**\n",
    "\n",
    "For an arbitrary triangle $ABC$ and a point $y$, define the so-called barycentric coordinates as:\n",
    "\n",
    "$$\n",
    "\\begin{align*}\n",
    "  r^{ABC}_1 &= \\frac{(B_2-C_2)(y_1-C_1) + (C_1-B_1)(y_2-C_2)}{(B_2-C_2)(A_1-C_1) + (C_1-B_1)(A_2-C_2)} \\\\\n",
    "  r^{ABC}_2 &= \\frac{(C_2-A_2)(y_1-C_1) + (A_1-C_1)(y_2-C_2)}{(B_2-C_2)(A_1-C_1) + (C_1-B_1)(A_2-C_2)} \\\\\n",
    "  r^{ABC}_3 &= 1 - r_1 - r_2.\n",
    "\\end{align*}\n",
    "$$\n",
    "\n",
    "If $r^{ABC}_1 \\in [0,1]$, $r^{ABC}_2 \\in [0,1]$, and $r^{ABC}_3 \\in [0,1]$, then the point is inside the triangle.\n",
    "\n",
    "We always have $y = r^{ABC}_1 A + r^{ABC}_2 B + r^{ABC}_3 C$.\n",
    "\n",
    "**Building block II**\n",
    "\n",
    "Define the following points:\n",
    "\n",
    "$$\n",
    "\\begin{align*}\n",
    "A&=\\arg\\min_{(x_{1},x_{2})\\in\\mathcal{X}}\\sqrt{\\left(x_{1}-y_{1}\\right)^{2}+\\left(x_{2}-y_{2}\\right)^{2}}\\text{ s.t. }x_{1}>y_{1}\\text{ and }x_{2}>y_{2}\\\\\n",
    "B&=\\arg\\min_{(x_{1},x_{2})\\in\\mathcal{X}}\\sqrt{\\left(x_{1}-y_{1}\\right)^{2}+\\left(x_{2}-y_{2}\\right)^{2}}\\text{ s.t. }x_{1}>y_{1}\\text{ and }x_{2}<y_{2}\\\\\n",
    "C&=\\arg\\min_{(x_{1},x_{2})\\in\\mathcal{X}}\\sqrt{\\left(x_{1}-y_{1}\\right)^{2}+\\left(x_{2}-y_{2}\\right)^{2}}\\text{ s.t. }x_{1}<y_{1}\\text{ and }x_{2}<y_{2}\\\\\n",
    "D&=\\arg\\min_{(x_{1},x_{2})\\in\\mathcal{X}}\\sqrt{\\left(x_{1}-y_{1}\\right)^{2}+\\left(x_{2}-y_{2}\\right)^{2}}\\text{ s.t. }x_{1}<y_{1}\\text{ and }x_{2}>y_{2}.\n",
    "\\end{align*}\n",
    "$$\n",
    "\n",
    "**Algorithm:**\n",
    "\n",
    "1. Compute $A$, $B$, $C$, and $D$. If not possible return `NaN`.\n",
    "1. If $y$ is inside the triangle $ABC$ return $r^{ABC}_1 f(A) + r^{ABC}_2 f(B) + r^{ABC}_3 f(C)$.\n",
    "1. If $y$ is inside the triangle $CDA$ return $r^{CDA}_1 f(C) + r^{CDA}_2 f(D) + r^{CDA}_3 f(A)$.\n",
    "1. Return `NaN`.\n",
    "\n"
   ]
  },
  {
   "cell_type": "markdown",
   "metadata": {},
   "source": [
    "**Sample:**"
   ]
  },
  {
   "cell_type": "code",
   "execution_count": 498,
   "metadata": {},
   "outputs": [],
   "source": [
    "rng = np.random.default_rng(2024)\n",
    "\n",
    "X = rng.uniform(size=(50,2))\n",
    "y = rng.uniform(size=(2,))"
   ]
  },
  {
   "cell_type": "markdown",
   "metadata": {},
   "source": [
    "**Questions 1:** Find $A$, $B$, $C$ and $D$. Illustrate these together with $X$, $y$ and the triangles $ABC$ and $CDA$."
   ]
  },
  {
   "cell_type": "code",
   "execution_count": 524,
   "metadata": {},
   "outputs": [
    {
     "name": "stdout",
     "output_type": "stream",
     "text": [
      "False\n",
      "True\n",
      "False\n",
      "False\n",
      "False\n",
      "True\n",
      "False\n",
      "False\n",
      "True\n",
      "False\n",
      "False\n",
      "True\n",
      "False\n",
      "False\n",
      "False\n",
      "False\n",
      "False\n",
      "True\n",
      "True\n",
      "False\n",
      "False\n",
      "True\n",
      "True\n",
      "True\n",
      "False\n",
      "False\n",
      "False\n",
      "True\n",
      "True\n",
      "False\n",
      "True\n",
      "True\n",
      "False\n",
      "True\n",
      "False\n",
      "False\n",
      "True\n",
      "False\n",
      "True\n",
      "False\n",
      "True\n",
      "True\n",
      "True\n",
      "False\n",
      "False\n",
      "False\n",
      "False\n",
      "False\n",
      "True\n",
      "False\n"
     ]
    }
   ],
   "source": [
    "y1,y2 = y\n",
    "\n",
    "def func_to_min(x1,x2,y1,y2) :\n",
    "    composite = (x1 - y1) ** 2 + (x2 - y2) ** 2\n",
    "    return composite ** (1/2) \n",
    "\n",
    "# Define the points\n",
    "A,B,C,D = ([0,0],[0,0],[0,0],[0,0])\n",
    "\n",
    "# Define the constraints\n",
    "cons_A,cons_B,cons_C,cons_D = [(x1 > y1 and x2 > y2),(x1 > y1 and x2 < y2),(x1 < y1 and x2 < y2),(x1 < y1 and x2 > y2)]\n",
    "\n",
    "for point,constraint in zip([A],[cons_A]) :\n",
    "\n",
    "    value = np.inf\n",
    "\n",
    "    for x1,x2 in X :\n",
    "\n",
    "        print(x1 > y1 and x2 > y2)\n",
    "\n",
    "        if constraint == True :\n",
    "            temp_val = func_to_min(x1,x2,y1,y2)\n",
    "        \n",
    "        else :\n",
    "            temp_val = np.NaN\n",
    "\n",
    "        if temp_val < value :\n",
    "            value = temp_val\n",
    "            point = [x1,x2]"
   ]
  },
  {
   "cell_type": "code",
   "execution_count": 485,
   "metadata": {},
   "outputs": [
    {
     "name": "stdout",
     "output_type": "stream",
     "text": [
      "[0.24520427 0.18478708]\n",
      "[0.20901926 0.37774759]\n"
     ]
    },
    {
     "data": {
      "text/plain": [
       "0.03618500942875147"
      ]
     },
     "execution_count": 485,
     "metadata": {},
     "output_type": "execute_result"
    }
   ],
   "source": [
    "rng = np.random.default_rng(2024)\n",
    "\n",
    "X = rng.uniform(size=(50,2))\n",
    "y = rng.uniform(size=(2,))\n",
    "\n",
    "def func_to_min(x1,x2,y1,y2) :\n",
    "    composite = (x1 - y1) ** 2 + (x2 - y2) ** 2\n",
    "    return composite ** (1/2) \n",
    "\n",
    "def objective_bary(x,y) :\n",
    "    return func_to_min(x[0],x[1],y[0],y[1])\n",
    "\n",
    "def constraint_A_1(x,y) :\n",
    "    return x[0] - y[0]\n",
    "\n",
    "def constraint_A_2(x,y) :\n",
    "    return x[1] - y[1]\n",
    "\n",
    "print(X[20])\n",
    "print(y)\n",
    "constraint_A_1(X[20],y)\n",
    "\n",
    "\n",
    "\n"
   ]
  },
  {
   "cell_type": "code",
   "execution_count": null,
   "metadata": {},
   "outputs": [],
   "source": [
    "bound = (0.0,1.0)\n",
    "bounds = (bound, bound)\n",
    "ineq_1 = {'type': 'ineq', 'fun': constraint_A_1}\n",
    "ineq_2 = {'type': 'ineq', 'fun': constraint_A_2}\n",
    "initial_guess = [0.5,0.5]\n",
    "\n",
    "result = scipy.optimize.minimize(objective_bary,\n",
    "                             initial_guess,\n",
    "                             method = 'SLSQP',\n",
    "                             bounds = bounds,\n",
    "                             args = (y,),\n",
    "                             constraints = [ineq_1 , ineq_2],\n",
    "                             options={'disp':True})\n"
   ]
  },
  {
   "cell_type": "code",
   "execution_count": null,
   "metadata": {},
   "outputs": [],
   "source": [
    "def _objective(x1,x2,x3,x4):\n",
    "    return x1*x4*(x1+x2+x3)+x3\n",
    "\n",
    "def objective(x):\n",
    "    return _objective(x[0],x[1],x[2],x[3])\n",
    "\n",
    "def ineq_constraint(x):\n",
    "    return x[0]*x[1]*x[2]*x[3]-25.0 # violated if negative\n",
    "\n",
    "def eq_constraint(x):\n",
    "    return np.sum(x**2)-40.0 # must equal zero\n",
    "\n",
    "# a. setup\n",
    "bound = (1.0,5.0)\n",
    "bounds = (bound, bound, bound, bound)\n",
    "ineq_con = {'type': 'ineq', 'fun': ineq_constraint} \n",
    "eq_con = {'type': 'eq', 'fun': eq_constraint}\n",
    "\n",
    "# b. call optimizer\n",
    "x0 = (40**(1/8),40**(1/8),40**(1/8),40**(1/8)) # fit the equality constraint\n",
    "\n",
    "result = optimize.minimize(objective,x0,\n",
    "                             method='SLSQP',\n",
    "                             bounds=bounds,\n",
    "                             constraints=[ineq_con,eq_con],\n",
    "                             options={'disp':True})\n",
    "\n",
    "print('\\nx = ',result.x)"
   ]
  },
  {
   "cell_type": "markdown",
   "metadata": {},
   "source": [
    "**Question 2:** Compute the barycentric coordinates of the point $y$ with respect to the triangles $ABC$ and $CDA$. Which triangle is $y$ located inside?"
   ]
  },
  {
   "cell_type": "code",
   "execution_count": null,
   "metadata": {},
   "outputs": [],
   "source": [
    "# write your answer here"
   ]
  },
  {
   "cell_type": "markdown",
   "metadata": {},
   "source": [
    "Now consider the function:\n",
    "$$\n",
    "f(x_1,x_2) = x_1 \\cdot x_2\n",
    "$$"
   ]
  },
  {
   "cell_type": "code",
   "execution_count": null,
   "metadata": {},
   "outputs": [],
   "source": [
    "f = lambda x: x[0]*x[1]\n",
    "F = np.array([f(x) for x in X])"
   ]
  },
  {
   "cell_type": "markdown",
   "metadata": {},
   "source": [
    "**Question 3:** Compute the approximation of $f(y)$ using the full algorithm. Compare with the true value."
   ]
  },
  {
   "cell_type": "code",
   "execution_count": null,
   "metadata": {},
   "outputs": [],
   "source": [
    "# write your answer here"
   ]
  },
  {
   "cell_type": "markdown",
   "metadata": {},
   "source": [
    "**Question 4:** Repeat question 3 for all points in the set $Y$."
   ]
  },
  {
   "cell_type": "code",
   "execution_count": null,
   "metadata": {},
   "outputs": [],
   "source": [
    "Y = [(0.2,0.2),(0.8,0.2),(0.8,0.8),(0.8,0.2),(0.5,0.5)]"
   ]
  },
  {
   "cell_type": "code",
   "execution_count": null,
   "metadata": {},
   "outputs": [],
   "source": [
    "# write your answer here"
   ]
  }
 ],
 "metadata": {
  "kernelspec": {
   "display_name": "base",
   "language": "python",
   "name": "python3"
  },
  "language_info": {
   "codemirror_mode": {
    "name": "ipython",
    "version": 3
   },
   "file_extension": ".py",
   "mimetype": "text/x-python",
   "name": "python",
   "nbconvert_exporter": "python",
   "pygments_lexer": "ipython3",
   "version": "3.11.7"
  }
 },
 "nbformat": 4,
 "nbformat_minor": 2
}
