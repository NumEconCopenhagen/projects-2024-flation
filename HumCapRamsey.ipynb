{
 "cells": [
  {
   "cell_type": "markdown",
   "metadata": {},
   "source": [
    "**Equations**\n",
    "\n",
    "The population $\\{N_t\\}_{t=0}^\\infty$ is assumed to grow at an exogenous net rate, such that $\\theta = (N_t/N_{t-1})-1$. This allows new unskilled members to join the representative household.\n",
    "\n",
    "Human capital accumulation for an unskilled household\n",
    "\n",
    "$$ h_t = (1-\\delta^h)h_{t-1} + g(e_t,z_t) $$\n",
    "\n",
    "We define the effective skill level of an unskilled individual as\n",
    "\n",
    "$$ S_t^i = \\phi_t^i \\cdot q(h_t), $$\n",
    "\n",
    "where an unskilled individual becomes skilled if $S_t^i > S^*$. We may also define it as $\\phi_t^i > \\frac{S^*}{\\cdot q(h_t)} = \\phi^*$, which tells us that an increase in the human capital of unskilled agents lowers the needed level of personal abilities required for becoming skilled.\n",
    "\n",
    "The proportion of unskilled household members who become skilled is given as\n",
    "\n",
    "$$ \\pi = 1 - \\int_0^{\\phi^*} f_{\\phi} d \\phi$$"
   ]
  },
  {
   "cell_type": "markdown",
   "metadata": {},
   "source": [
    "**Model variables and parameters**\n",
    "\n",
    "$N_{t-1}$: The total number of members at the start of time t for the representative household.\n",
    "\n",
    "$N_{t-1}^s$: The number of **skilled** members at the start of time t for the representative household.\n",
    "\n",
    "$N_{t-1}^u$: The number of **unskilled** members at the start of time t for the representative household.\n",
    "\n",
    "We therefore have that $N_{t-1}=N_{t-1}^s+N_{t-1}^u$ and may define population shares as\n",
    "\n",
    "$n_{t-1}^s = N_{t-1}^s / N_{t-1} $: The share of **skilled** members at the start of time t for the representative household.\n",
    "\n",
    "$n_{t-1}^u = N_{t-1}^u / N_{t-1} $: The share of **unskilled** members at the start of time t for the representative household.\n",
    "\n",
    "$\\delta^h \\in (0,1)$: The human capital depreciation rate.\n",
    "\n",
    "$e_t$: Time devoted to education.\n",
    "\n",
    "$z_t$: Private education spending.\n",
    "\n",
    "$S_t^i$: The effective skill level of an unskilled individual, where $i = 1,2,\\ldots,N^u$.\n",
    "\n",
    "$S^*>0$: Threshold effective skill level where an unskilled indivudal becomes skilled.\n",
    "\n",
    "$ \\phi_t^i$: Individual factors that determine the effective skill level an unskilled individual. The parameter is drawn from a uniform distribution and is i.i.d. over time. The parameter has the density function \n",
    "$$ f_{\\phi} = \\frac{1}{\\phi^h-\\phi^l,} $$\n",
    "where $\\phi^h > \\phi > \\phi^l$, and $\\phi^h$ and $\\phi^l$ are, respectivaly the maximum and the minimum ability levels within the  members of the household.\n",
    "\n",
    "$\\pi$: Proportion of unskilled household members who become skilled."
   ]
  },
  {
   "cell_type": "markdown",
   "metadata": {},
   "source": [
    "**HERUNDER LAVER VI BASIC RAMSEY OG PRØVER AT LØSE DEN**"
   ]
  },
  {
   "cell_type": "markdown",
   "metadata": {},
   "source": [
    "\n",
    "**The optimization problem of the household**\n",
    "\n",
    "Let there be a representative household with $N_{t-1}$ members at the start of time t. We assume that the number of household members grows at an exogenous rate, $\\theta$, such that $N_t = (1+\\theta)N_{t-1}$, and that they each supply one unit of labor inelastically.\n",
    "\n",
    "The household maximizes the discounted lifetime utility of its members,\n",
    "\n",
    "$$U = \\max_{\\{c_t,k_t\\}_{t=0}^\\infty} \\sum_{t=0}^\\infty \\beta^t \\frac{c_t^{1-\\sigma}}{1-\\sigma}, \\quad \\beta\\in(0,1), \\quad \\sigma>0, $$\n",
    "\n",
    "subject to the households budget constraint \n",
    "\n",
    "$$ c_t + i_t = w_t + r_t k_{t-1}$$\n",
    "\n",
    "and the law of motion for physical capital\n",
    "\n",
    "$$ k_t = (1-\\delta^k)k_{t-1} + Bi_t, \\quad \\delta^k \\in (0,1), \\quad B > 0. $$\n",
    "\n",
    "The two constraint may be combined\n",
    "\n",
    "$$ Bc_t + k_t = Bw_t n_t + (1+Br_t-\\delta^k)k_{t-1} $$"
   ]
  },
  {
   "cell_type": "markdown",
   "metadata": {},
   "source": [
    "**The firm**\n",
    "\n",
    "Let there be $N_{t-1}^f$ identical firms at the start of time t. The number of firms will equal the number of household members, such that $N_t^f = (1+\\theta)N_{t-1}^f$. \\\n",
    "Each firm produces the aggregate output, $y_t^f$, with a production technology that uses physical capital, $k_t^f$ and labor, $l_t^f$ as inputs.\n",
    "\n",
    "The production technology employed by the firms is a CES production function \n",
    "\n",
    "$$ y_t^f = A \\left[\\eta (k_t^f)^{\\psi} + (1-\\eta) (l_t^f)^{\\psi}\\right]^{1/\\psi}, \\quad \\eta \\in (0,1), \\quad \\psi \\in (-\\infty,1). $$\n",
    "\n",
    "Each firm acts competitively by choosing inputs $k_t^f$ and $l_t^f$, to maximize profits,\n",
    "\n",
    "$$ \\Pi_t^f = A \\left[\\eta (k_t^f)^{\\psi} + (1-\\eta) (l_t^f)^{\\psi}\\right]^{1/\\psi} - r_t k_t^f - w_t l_t^f. $$"
   ]
  },
  {
   "cell_type": "markdown",
   "metadata": {},
   "source": [
    "**Solving the household optimization problem**\n",
    "\n",
    "The lagrangian\n",
    "\n",
    "$$ L = \\sum_{t=0}^\\infty \\beta^t \\frac{c_t^{1-\\sigma}}{1-\\sigma} + \\beta^t\\lambda_t(Bw_t + (1+Br_t-\\delta^k)k_{t-1}-Bc_t - k_t) $$\n",
    "\n",
    "First order conditions\n",
    "\n",
    "$$ \\frac{\\partial L}{\\partial c_t} = 0 \\quad \\Leftrightarrow \\quad \\frac{c_t^{-\\sigma}}{B}=\\lambda_t \\quad (1)$$\n",
    "\n",
    "$$ \\frac{\\partial L}{\\partial c_t} = 0 \\quad \\Leftrightarrow \\quad \\beta (1+Br_{t+1}-\\delta^k)\\lambda_{t+1}=\\lambda_t \\quad (2) $$\n",
    "\n",
    "Combine equation (1) and (2) to derive the euler equation of the model\n",
    "\n",
    "$$ c_t^{-\\sigma} = B\\cdot\\beta (1+Br_{t+1}-\\delta^k)c_{t+1}^{-\\sigma}$$"
   ]
  }
 ],
 "metadata": {
  "language_info": {
   "name": "python"
  }
 },
 "nbformat": 4,
 "nbformat_minor": 2
}
