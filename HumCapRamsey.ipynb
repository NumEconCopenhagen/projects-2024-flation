{
 "cells": [
  {
   "cell_type": "code",
   "execution_count": 1,
   "metadata": {},
   "outputs": [],
   "source": [
    "import numpy as np\n",
    "import matplotlib.pyplot as plt\n",
    "plt.rcParams.update({\"axes.grid\":True,\"grid.color\":\"black\",\"grid.alpha\":\"0.25\",\"grid.linestyle\":\"--\"})\n",
    "plt.rcParams.update({'font.size': 14})\n",
    "\n",
    "%load_ext autoreload\n",
    "%autoreload 2"
   ]
  },
  {
   "cell_type": "markdown",
   "metadata": {},
   "source": [
    "**Equations**\n",
    "\n",
    "The population $\\{N_t\\}_{t=0}^\\infty$ is assumed to grow at an exogenous net rate, such that $\\theta = (N_t/N_{t-1})-1$. This allows new unskilled members to join the representative household.\n",
    "\n",
    "Human capital accumulation for an unskilled household\n",
    "\n",
    "$$ h_t = (1-\\delta^h)h_{t-1} + g(e_t,z_t) $$\n",
    "\n",
    "We define the effective skill level of an unskilled individual as\n",
    "\n",
    "$$ S_t^i = \\phi_t^i \\cdot q(h_t), $$\n",
    "\n",
    "where an unskilled individual becomes skilled if $S_t^i > S^*$. We may also define it as $\\phi_t^i > \\frac{S^*}{\\cdot q(h_t)} = \\phi^*$, which tells us that an increase in the human capital of unskilled agents lowers the needed level of personal abilities required for becoming skilled.\n",
    "\n",
    "The proportion of unskilled household members who become skilled is given as\n",
    "\n",
    "$$ \\pi = 1 - \\int_0^{\\phi^*} f_{\\phi} d \\phi$$"
   ]
  },
  {
   "cell_type": "markdown",
   "metadata": {},
   "source": [
    "**Model variables and parameters**\n",
    "\n",
    "$N_{t-1}$: The total number of members at the start of time t for the representative household.\n",
    "\n",
    "$N_{t-1}^s$: The number of **skilled** members at the start of time t for the representative household.\n",
    "\n",
    "$N_{t-1}^u$: The number of **unskilled** members at the start of time t for the representative household.\n",
    "\n",
    "We therefore have that $N_{t-1}=N_{t-1}^s+N_{t-1}^u$ and may define population shares as\n",
    "\n",
    "$n_{t-1}^s = N_{t-1}^s / N_{t-1} $: The share of **skilled** members at the start of time t for the representative household.\n",
    "\n",
    "$n_{t-1}^u = N_{t-1}^u / N_{t-1} $: The share of **unskilled** members at the start of time t for the representative household.\n",
    "\n",
    "$\\delta^h \\in (0,1)$: The human capital depreciation rate.\n",
    "\n",
    "$e_t$: Time devoted to education.\n",
    "\n",
    "$z_t$: Private education spending.\n",
    "\n",
    "$S_t^i$: The effective skill level of an unskilled individual, where $i = 1,2,\\ldots,N^u$.\n",
    "\n",
    "$S^*>0$: Threshold effective skill level where an unskilled indivudal becomes skilled.\n",
    "\n",
    "$ \\phi_t^i$: Individual factors that determine the effective skill level an unskilled individual. The parameter is drawn from a uniform distribution and is i.i.d. over time. The parameter has the density function \n",
    "$$ f_{\\phi} = \\frac{1}{\\phi^h-\\phi^l,} $$\n",
    "where $\\phi^h > \\phi > \\phi^l$, and $\\phi^h$ and $\\phi^l$ are, respectivaly the maximum and the minimum ability levels within the  members of the household.\n",
    "\n",
    "$\\pi$: Proportion of unskilled household members who become skilled."
   ]
  },
  {
   "cell_type": "markdown",
   "metadata": {},
   "source": [
    "**HERUNDER LAVER VI BASIC RAMSEY OG PRØVER AT LØSE DEN**"
   ]
  },
  {
   "cell_type": "markdown",
   "metadata": {},
   "source": [
    "\n",
    "**The household and the lifetime utility maximization problem**\n",
    "Let there be a representative household with $N_{t-1}$ members at the start of time t. We assume that the number of household members is constant over time, such that $N_t = N_{t-1}$, and that they each supply one unit of labor inelastically.\n",
    "\n",
    "The household maximizes the discounted lifetime utility of its members,\n",
    "\n",
    "$$U = \\max_{\\{c_t,k_t\\}_{t=0}^\\infty} \\sum_{t=0}^\\infty \\beta^t \\frac{c_t^{1-\\sigma}}{1-\\sigma}, \\quad \\beta\\in(0,1), \\quad \\sigma>0, $$\n",
    "\n",
    "subject to the households budget constraint and the law of motion for physical capital\n",
    "\n",
    "$$ c_t + i_t = w_t + r_t k_{t-1} \\quad , \\quad k_t = (1-\\delta^k)k_{t-1} + Bi_t, \\quad \\delta^k \\in (0,1), \\quad B > 0. $$\n",
    "\n",
    "The two constraint can be combined into a single constraint, that is the households dynamic budget constraint,\n",
    "\n",
    "$$ c_t + \\frac{1}{B}(k_t-(1-\\delta^k)k_{t-1}) = w_t + r_t k_{t-1}$$\n",
    "\n",
    "To solve the households problem we first set up the lagrangian \n",
    "\n",
    "$$ L = \\sum_{t=0}^\\infty \\beta^t \\frac{c_t^{1-\\sigma}}{1-\\sigma} + \\beta^t\\lambda_t(w_t + \\frac{1}{B}(1+Br_t-\\delta^k)k_{t-1}- c_t - \\frac{1}{B} k_t), $$\n",
    "\n",
    "and derive the first order conditions, which can be combined into the models euler equation\n",
    "\n",
    "$$ \\frac{\\partial L}{\\partial c_t} = 0 \\quad \\Leftrightarrow \\quad c_t^{-\\sigma}=\\lambda_t, \\qquad \\frac{\\partial L}{\\partial k_t} = 0 \\quad \\Leftrightarrow \\quad \\beta (1+Br_{t+1}-\\delta^k)\\lambda_{t+1}=\\lambda_t, \\qquad  c_t^{-\\sigma} = \\beta (1+Br_{t+1}-\\delta^k)c_{t+1}^{-\\sigma} $$\n",
    "\n"
   ]
  },
  {
   "cell_type": "markdown",
   "metadata": {},
   "source": [
    "**The firm and their profit maximization problem**\n",
    "\n",
    "Let there be $N_{t-1}^f$ identical firms at the start of time t. The number of firms will equal the number of household members. Each firm produces the aggregate output, $y_t^f$, with a production technology that uses physical capital, $k_t^f$ and labor, $l_t^f$ as inputs.\n",
    "\n",
    "The production technology employed by the firms is a CES production function \n",
    "\n",
    "$$ y_t^f = A \\left[\\eta (k_t^f)^{\\psi} + (1-\\eta) (l_t^f)^{\\psi}\\right]^{1/\\psi}, \\quad \\eta \\in (0,1), \\quad \\psi \\in (-\\infty,1). $$\n",
    "\n",
    "Each firm acts competitively by choosing inputs $k_t^f$ and $l_t^f$, to maximize profits,\n",
    "\n",
    "$$ \\Pi_t^f = A \\left[\\eta (k_t^f)^{\\psi} + (1-\\eta) (l_t^f)^{\\psi}\\right]^{1/\\psi} - r_t k_t^f - w_t l_t^f. $$\n",
    "\n",
    "From the profit maximization problem the wage paid to the laborers and the return on capital can be determined from the two first order conditions\n",
    "\n",
    "$$ \\frac{\\partial \\Pi_t^f}{\\partial k_t^f} = 0 \\quad \\Leftrightarrow \\quad r_t = A \\left[\\eta (k_t^f)^{\\psi} + (1-\\eta) (l_t^f)^{\\psi}\\right]^{\\frac{1-\\psi}{\\psi}} \\times \\eta (k_t^f)^{\\psi-1}  $$\n",
    "\n",
    "$$ \\frac{\\partial \\Pi_t^f}{\\partial l_t^f} = 0 \\quad \\Leftrightarrow \\quad w_t = A \\left[\\eta (k_t^f)^{\\psi} + (1-\\eta) (l_t^f)^{\\psi}\\right]^{\\frac{1-\\psi}{\\psi}} \\times (1-\\eta) (l_t^f)^{\\psi-1}   $$\n"
   ]
  },
  {
   "cell_type": "markdown",
   "metadata": {},
   "source": [
    "**Market clearing conditions**\n",
    "\n",
    "To solve the model we need the labor market, capital market and goods market to clear as well as the aggregate resource constraint to be satisfied:\n",
    "\n",
    "1. The labor market clearing implies ; $l_t^f = n_{t-1}$.\n",
    "2. The capital market clearing implies ; $k_t^f = k_{t-1}$.\n",
    "3. The goods market clearing and the aggregate resource constraint implies ; $y_t^f=c_t+i_t=c_t+k_t-(1-\\delta)k_{t-1}$."
   ]
  },
  {
   "cell_type": "markdown",
   "metadata": {},
   "source": [
    "**Decentralized competitive equilibrium**\n",
    "\n",
    "The decentralized competitive equilibrium is an allocation sequence $\\{c_t,k_t,i_t\\}_{t=0}^{\\infty}$, a price sequence $\\{w_t,r_t\\}_{t=0}^{\\infty}$ and an initial capital allocation $k_0$, such that \n",
    "\n",
    "1. The representative household maximize their lifetime utility and thus defining the euler equation.\n",
    "2. The representative firm maximize their profits and thus defining the return on capital and labor wage.\n",
    "3. All markets clearing conditions are satisfied.\n",
    "\n",
    "We may summarize the conditions for the decentralized competitive equilibrium as a system of two difference equations\n",
    "\n",
    "$$\n",
    "\\begin{aligned}\n",
    "H_{t}\n",
    "=\\left[\\begin{array}{c}\n",
    "c_t^{-\\sigma} - \\beta (1+Br_{t+1}-\\delta^k)c_{t+1}^{-\\sigma} \\\\\n",
    "y_t^f - c_t - k_t + (1-\\delta)k_{t-1}\n",
    "\\end{array}\\right] = \\left[\\begin{array}{c}\n",
    "0 \\\\\n",
    "0\n",
    "\\end{array}\\right]\n",
    "\\end{aligned}, \\quad \\forall t \\in \\mathbb{N}_0.\n",
    "$$\n",
    "\n"
   ]
  },
  {
   "cell_type": "markdown",
   "metadata": {},
   "source": []
  },
  {
   "cell_type": "code",
   "execution_count": 4,
   "metadata": {},
   "outputs": [],
   "source": [
    "from HumCapRamsey import InFiniteHorizonStandard\n",
    "\n",
    "model = InFiniteHorizonStandard()"
   ]
  },
  {
   "cell_type": "code",
   "execution_count": 11,
   "metadata": {},
   "outputs": [],
   "source": [
    "model.steady_state(4.0)"
   ]
  },
  {
   "cell_type": "code",
   "execution_count": null,
   "metadata": {},
   "outputs": [],
   "source": []
  }
 ],
 "metadata": {
  "kernelspec": {
   "display_name": "base",
   "language": "python",
   "name": "python3"
  },
  "language_info": {
   "codemirror_mode": {
    "name": "ipython",
    "version": 3
   },
   "file_extension": ".py",
   "mimetype": "text/x-python",
   "name": "python",
   "nbconvert_exporter": "python",
   "pygments_lexer": "ipython3",
   "version": "3.11.7"
  }
 },
 "nbformat": 4,
 "nbformat_minor": 2
}
